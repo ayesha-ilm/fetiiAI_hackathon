{
  "cells": [
    {
      "cell_type": "code",
      "execution_count": 7,
      "id": "234c63ad",
      "metadata": {
        "colab": {
          "base_uri": "https://localhost:8080/"
        },
        "id": "234c63ad",
        "outputId": "843e8c66-17bf-40e2-9f7e-e35e0096ea10"
      },
      "outputs": [
        {
          "name": "stdout",
          "output_type": "stream",
          "text": [
            "Requirement already satisfied: ipykernel in ./.venv/lib/python3.13/site-packages (6.30.1)\n",
            "Requirement already satisfied: pandas in ./.venv/lib/python3.13/site-packages (2.3.2)\n",
            "Requirement already satisfied: h3 in ./.venv/lib/python3.13/site-packages (4.3.1)\n",
            "Requirement already satisfied: duckdb in ./.venv/lib/python3.13/site-packages (1.4.0)\n",
            "Requirement already satisfied: appnope>=0.1.2 in ./.venv/lib/python3.13/site-packages (from ipykernel) (0.1.4)\n",
            "Requirement already satisfied: comm>=0.1.1 in ./.venv/lib/python3.13/site-packages (from ipykernel) (0.2.3)\n",
            "Requirement already satisfied: debugpy>=1.6.5 in ./.venv/lib/python3.13/site-packages (from ipykernel) (1.8.17)\n",
            "Requirement already satisfied: ipython>=7.23.1 in ./.venv/lib/python3.13/site-packages (from ipykernel) (9.5.0)\n",
            "Requirement already satisfied: jupyter-client>=8.0.0 in ./.venv/lib/python3.13/site-packages (from ipykernel) (8.6.3)\n",
            "Requirement already satisfied: jupyter-core!=5.0.*,>=4.12 in ./.venv/lib/python3.13/site-packages (from ipykernel) (5.8.1)\n",
            "Requirement already satisfied: matplotlib-inline>=0.1 in ./.venv/lib/python3.13/site-packages (from ipykernel) (0.1.7)\n",
            "Requirement already satisfied: nest-asyncio>=1.4 in ./.venv/lib/python3.13/site-packages (from ipykernel) (1.6.0)\n",
            "Requirement already satisfied: packaging>=22 in ./.venv/lib/python3.13/site-packages (from ipykernel) (25.0)\n",
            "Requirement already satisfied: psutil>=5.7 in ./.venv/lib/python3.13/site-packages (from ipykernel) (7.1.0)\n",
            "Requirement already satisfied: pyzmq>=25 in ./.venv/lib/python3.13/site-packages (from ipykernel) (27.1.0)\n",
            "Requirement already satisfied: tornado>=6.2 in ./.venv/lib/python3.13/site-packages (from ipykernel) (6.5.2)\n",
            "Requirement already satisfied: traitlets>=5.4.0 in ./.venv/lib/python3.13/site-packages (from ipykernel) (5.14.3)\n",
            "Requirement already satisfied: numpy>=1.26.0 in ./.venv/lib/python3.13/site-packages (from pandas) (2.3.3)\n",
            "Requirement already satisfied: python-dateutil>=2.8.2 in ./.venv/lib/python3.13/site-packages (from pandas) (2.9.0.post0)\n",
            "Requirement already satisfied: pytz>=2020.1 in ./.venv/lib/python3.13/site-packages (from pandas) (2025.2)\n",
            "Requirement already satisfied: tzdata>=2022.7 in ./.venv/lib/python3.13/site-packages (from pandas) (2025.2)\n",
            "Requirement already satisfied: decorator in ./.venv/lib/python3.13/site-packages (from ipython>=7.23.1->ipykernel) (5.2.1)\n",
            "Requirement already satisfied: ipython-pygments-lexers in ./.venv/lib/python3.13/site-packages (from ipython>=7.23.1->ipykernel) (1.1.1)\n",
            "Requirement already satisfied: jedi>=0.16 in ./.venv/lib/python3.13/site-packages (from ipython>=7.23.1->ipykernel) (0.19.2)\n",
            "Requirement already satisfied: pexpect>4.3 in ./.venv/lib/python3.13/site-packages (from ipython>=7.23.1->ipykernel) (4.9.0)\n",
            "Requirement already satisfied: prompt_toolkit<3.1.0,>=3.0.41 in ./.venv/lib/python3.13/site-packages (from ipython>=7.23.1->ipykernel) (3.0.52)\n",
            "Requirement already satisfied: pygments>=2.4.0 in ./.venv/lib/python3.13/site-packages (from ipython>=7.23.1->ipykernel) (2.19.2)\n",
            "Requirement already satisfied: stack_data in ./.venv/lib/python3.13/site-packages (from ipython>=7.23.1->ipykernel) (0.6.3)\n",
            "Requirement already satisfied: wcwidth in ./.venv/lib/python3.13/site-packages (from prompt_toolkit<3.1.0,>=3.0.41->ipython>=7.23.1->ipykernel) (0.2.13)\n",
            "Requirement already satisfied: parso<0.9.0,>=0.8.4 in ./.venv/lib/python3.13/site-packages (from jedi>=0.16->ipython>=7.23.1->ipykernel) (0.8.5)\n",
            "Requirement already satisfied: platformdirs>=2.5 in ./.venv/lib/python3.13/site-packages (from jupyter-core!=5.0.*,>=4.12->ipykernel) (4.4.0)\n",
            "Requirement already satisfied: ptyprocess>=0.5 in ./.venv/lib/python3.13/site-packages (from pexpect>4.3->ipython>=7.23.1->ipykernel) (0.7.0)\n",
            "Requirement already satisfied: six>=1.5 in ./.venv/lib/python3.13/site-packages (from python-dateutil>=2.8.2->pandas) (1.17.0)\n",
            "Requirement already satisfied: executing>=1.2.0 in ./.venv/lib/python3.13/site-packages (from stack_data->ipython>=7.23.1->ipykernel) (2.2.1)\n",
            "Requirement already satisfied: asttokens>=2.1.0 in ./.venv/lib/python3.13/site-packages (from stack_data->ipython>=7.23.1->ipykernel) (3.0.0)\n",
            "Requirement already satisfied: pure-eval in ./.venv/lib/python3.13/site-packages (from stack_data->ipython>=7.23.1->ipykernel) (0.2.3)\n",
            "Note: you may need to restart the kernel to use updated packages.\n"
          ]
        }
      ],
      "source": [
        "%pip install ipykernel pandas h3 duckdb"
      ]
    },
    {
      "cell_type": "code",
      "execution_count": 8,
      "id": "81e676ae",
      "metadata": {
        "id": "81e676ae"
      },
      "outputs": [],
      "source": [
        "import pandas as pd\n",
        "import h3\n",
        "import duckdb\n",
        "import numpy as np"
      ]
    },
    {
      "cell_type": "code",
      "execution_count": 9,
      "id": "547b176c",
      "metadata": {
        "id": "547b176c"
      },
      "outputs": [],
      "source": [
        "trips = pd.read_csv(\"Trip_Data.csv\")\n",
        "RES = 9  # adjust resolution based on city block scale\n",
        "trips['pickup_h3'] = trips.apply(lambda r: h3.latlng_to_cell(r['Pick Up Latitude'], r['Pick Up Longitude'], RES), axis=1)\n",
        "trips['dropoff_h3'] = trips.apply(lambda r: h3.latlng_to_cell(r['Drop Off Latitude'], r['Drop Off Longitude'], RES), axis=1)"
      ]
    },
    {
      "cell_type": "code",
      "execution_count": 10,
      "id": "8bf3413c",
      "metadata": {
        "id": "8bf3413c"
      },
      "outputs": [],
      "source": [
        "venue_counts_dropoff = trips.groupby('dropoff_h3')['Drop Off Address'] \\\n",
        "    .agg(lambda x: x.value_counts().idxmax()) \\\n",
        "    .reset_index() \\\n",
        "    .rename(columns={'Drop Off Address':'canonical_dropoff'})\n",
        "\n",
        "# Pickup canonical\n",
        "venue_counts_pickup = trips.groupby('pickup_h3')['Pick Up Address'] \\\n",
        "    .agg(lambda x: x.value_counts().idxmax()) \\\n",
        "    .reset_index() \\\n",
        "    .rename(columns={'Pick Up Address':'canonical_pickup'})"
      ]
    },
    {
      "cell_type": "code",
      "execution_count": 11,
      "id": "J3T-Mu57fzHg",
      "metadata": {
        "id": "J3T-Mu57fzHg"
      },
      "outputs": [],
      "source": [
        "trips = trips.merge(venue_counts_dropoff, on='dropoff_h3', how='left')\n",
        "trips = trips.merge(venue_counts_pickup, on='pickup_h3', how='left')\n",
        "\n",
        "# Save augmented trips CSV\n",
        "trips.to_csv(\"trips_augmented.csv\", index=False)"
      ]
    },
    {
      "cell_type": "code",
      "execution_count": 12,
      "id": "X0LfpLzmi22a",
      "metadata": {
        "id": "X0LfpLzmi22a"
      },
      "outputs": [],
      "source": [
        "pickup_venues = trips.groupby('pickup_h3')['Pick Up Address'].unique().reset_index()\n",
        "pickup_venues = pickup_venues.rename(columns={'pickup_h3':'h3', 'Pick Up Address':'pickup_addresses'})\n",
        "\n",
        "# Drop-off addresses\n",
        "dropoff_venues = trips.groupby('dropoff_h3')['Drop Off Address'].unique().reset_index()\n",
        "dropoff_venues = dropoff_venues.rename(columns={'dropoff_h3':'h3', 'Drop Off Address':'dropoff_addresses'})\n",
        "\n",
        "# Merge pickups and drop-offs into one table\n",
        "all_venues = pickup_venues.merge(dropoff_venues, on='h3', how='outer')\n"
      ]
    },
    {
      "cell_type": "code",
      "execution_count": 13,
      "id": "KA96iLbIgL49",
      "metadata": {
        "id": "KA96iLbIgL49"
      },
      "outputs": [],
      "source": [
        "all_venues['all_addresses'] = all_venues.apply(\n",
        "    lambda row: list(set(\n",
        "        list(row['pickup_addresses']) if isinstance(row['pickup_addresses'], (list, np.ndarray)) else []\n",
        "        + list(row['dropoff_addresses']) if isinstance(row['dropoff_addresses'], (list, np.ndarray)) else []\n",
        "    )), axis=1\n",
        ")"
      ]
    },
    {
      "cell_type": "code",
      "execution_count": 14,
      "id": "He0140G0k8h-",
      "metadata": {
        "id": "He0140G0k8h-"
      },
      "outputs": [],
      "source": [
        "all_venues = all_venues[['h3', 'all_addresses']]"
      ]
    },
    {
      "cell_type": "code",
      "execution_count": 15,
      "id": "YcFVu0jmfWWM",
      "metadata": {
        "id": "YcFVu0jmfWWM"
      },
      "outputs": [],
      "source": [
        "con = duckdb.connect('fetii.duckdb')\n",
        "\n",
        "# Trips table\n",
        "con.register('trips_df', trips)\n",
        "con.execute(\"CREATE OR REPLACE TABLE trips AS SELECT * FROM trips_df;\")\n",
        "\n",
        "# Venues table\n",
        "con.register('venues_df', all_venues)\n",
        "con.execute(\"CREATE OR REPLACE TABLE venues AS SELECT * FROM venues_df;\")\n",
        "\n",
        "# Close connection\n",
        "con.close()"
      ]
    },
    {
      "cell_type": "code",
      "execution_count": 16,
      "id": "SVG1k-EAhNi2",
      "metadata": {
        "colab": {
          "base_uri": "https://localhost:8080/"
        },
        "id": "SVG1k-EAhNi2",
        "outputId": "0bf2ad76-6c4b-4782-cac2-7ea71460b901"
      },
      "outputs": [
        {
          "name": "stdout",
          "output_type": "stream",
          "text": [
            "Trips table columns:\n",
            "     cid                name     type  notnull dflt_value     pk\n",
            "0     0             Trip ID   BIGINT    False       None  False\n",
            "1     1     Booking User ID   BIGINT    False       None  False\n",
            "2     2    Pick Up Latitude   DOUBLE    False       None  False\n",
            "3     3   Pick Up Longitude   DOUBLE    False       None  False\n",
            "4     4   Drop Off Latitude   DOUBLE    False       None  False\n",
            "5     5  Drop Off Longitude   DOUBLE    False       None  False\n",
            "6     6     Pick Up Address  VARCHAR    False       None  False\n",
            "7     7    Drop Off Address  VARCHAR    False       None  False\n",
            "8     8  Trip Date and Time  VARCHAR    False       None  False\n",
            "9     9    Total Passengers   BIGINT    False       None  False\n",
            "10   10           pickup_h3  VARCHAR    False       None  False\n",
            "11   11          dropoff_h3  VARCHAR    False       None  False\n",
            "12   12   canonical_dropoff  VARCHAR    False       None  False\n",
            "13   13    canonical_pickup  VARCHAR    False       None  False\n",
            "\n",
            "Venues table columns:\n",
            "    cid           name       type  notnull dflt_value     pk\n",
            "0    0             h3    VARCHAR    False       None  False\n",
            "1    1  all_addresses  VARCHAR[]    False       None  False\n"
          ]
        }
      ],
      "source": [
        "con = duckdb.connect('fetii.duckdb')\n",
        "\n",
        "columns_trips = con.execute(\"PRAGMA table_info('trips');\").fetchdf()\n",
        "columns_venues = con.execute(\"PRAGMA table_info('venues');\").fetchdf()\n",
        "\n",
        "print(\"Trips table columns:\\n\", columns_trips)\n",
        "print(\"\\nVenues table columns:\\n\", columns_venues)"
      ]
    },
    {
      "cell_type": "code",
      "execution_count": 17,
      "id": "VCtInn1UhW5A",
      "metadata": {
        "colab": {
          "base_uri": "https://localhost:8080/"
        },
        "id": "VCtInn1UhW5A",
        "outputId": "81872253-9e88-491e-854b-68e926b3f18f"
      },
      "outputs": [
        {
          "name": "stdout",
          "output_type": "stream",
          "text": [
            "                                    original_dropoff  \\\n",
            "0  Robert L. Patton Building (RLP), East 23rd Str...   \n",
            "1  Cabo Bob's Burritos, Rio Grande Street, Austin...   \n",
            "2                 601 Brushy Street, Austin, TX, USA   \n",
            "3  The Aquarium on 6th, East 6th Street, Austin, ...   \n",
            "4     Coconut Club, Colorado Street, Austin, TX, USA   \n",
            "\n",
            "                                     trips_canonical  \\\n",
            "0  Robert L. Patton Building (RLP), East 23rd Str...   \n",
            "1  El Patio Restaurant, Guadalupe Street, Austin,...   \n",
            "2        Mala Vida, East 6th Street, Austin, TX, USA   \n",
            "3  The Aquarium on 6th, East 6th Street, Austin, ...   \n",
            "4     Coconut Club, Colorado Street, Austin, TX, USA   \n",
            "\n",
            "                                venues_all_addresses  check  \n",
            "0  [University Campus, San Jacinto Blvd, Austin, ...  MATCH  \n",
            "1  [North University, Guadalupe St, Austin, Unite...  MATCH  \n",
            "2  [Sixth Street, E 6th St, Austin, United States...  MATCH  \n",
            "3  [Sixth Street, Red River St, Austin, United St...  MATCH  \n",
            "4  [Congress Ave District, Congress Ave, Austin, ...  MATCH  \n"
          ]
        }
      ],
      "source": [
        "# checking h3 matching\n",
        "\n",
        "con = duckdb.connect('fetii.duckdb')\n",
        "df_check = con.execute(\"\"\"SELECT\n",
        "    t.\"Drop Off Address\" AS original_dropoff,\n",
        "    t.canonical_dropoff AS trips_canonical,\n",
        "    v.all_addresses AS venues_all_addresses,\n",
        "    'MATCH' AS check  -- since it’s in the same H3\n",
        "FROM trips t\n",
        "JOIN venues v\n",
        "    ON t.dropoff_h3 = v.h3\n",
        "LIMIT 5;\n",
        "\"\"\").df()\n",
        "\n",
        "\n",
        "print(df_check)\n",
        "\n",
        "con.close()"
      ]
    }
  ],
  "metadata": {
    "colab": {
      "provenance": []
    },
    "kernelspec": {
      "display_name": ".venv",
      "language": "python",
      "name": "python3"
    },
    "language_info": {
      "codemirror_mode": {
        "name": "ipython",
        "version": 3
      },
      "file_extension": ".py",
      "mimetype": "text/x-python",
      "name": "python",
      "nbconvert_exporter": "python",
      "pygments_lexer": "ipython3",
      "version": "3.13.0"
    }
  },
  "nbformat": 4,
  "nbformat_minor": 5
}
